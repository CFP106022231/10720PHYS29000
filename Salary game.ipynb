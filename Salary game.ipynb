{
 "cells": [
  {
   "cell_type": "code",
   "execution_count": 6,
   "metadata": {},
   "outputs": [
    {
     "name": "stdout",
     "output_type": "stream",
     "text": [
      "學生總數:50\n",
      "初始金錢:40000\n",
      "總共回數:500\n",
      "輸一次多少錢:10000\n",
      "(array([ 2.,  0.,  8.,  2.,  4., 13.,  4.,  8.,  4.,  5.]), array([-40000., -26000., -12000.,   2000.,  16000.,  30000.,  44000.,\n",
      "        58000.,  72000.,  86000., 100000.]), <a list of 10 Patch objects>)\n",
      "[-33000. -19000.  -5000.   9000.  23000.  37000.  51000.  65000.  79000.\n",
      "  93000.]\n",
      "[4.64164518e-287] [[inf]]\n"
     ]
    },
    {
     "data": {
      "image/png": "[encoded data removed]",
      "text/plain": [
       "<Figure size 432x288 with 1 Axes>"
      ]
     },
     "metadata": {
      "needs_background": "light"
     },
     "output_type": "display_data"
    }
   ],
   "source": [
    "import random\n",
    "import matplotlib.pyplot as plt\n",
    "import numpy as np\n",
    "\n",
    "s = int(input('學生總數:'))\n",
    "m = int(input('初始金錢:'))\n",
    "r = int(input('總共回數:'))\n",
    "dm = int(input('輸一次多少錢:'))\n",
    "money = []\n",
    "\n",
    "for y in range(0,s):\n",
    "    money.append(m)\n",
    "    \n",
    "for z in range(0,r):\n",
    "    p = s\n",
    "    if p == 1:\n",
    "        break\n",
    "    else:\n",
    "        money = sorted(money,reverse=True)\n",
    "        p1 = np.random.randint(0,p) #選出兩位學生\n",
    "        p2 = np.random.randint(0,p)\n",
    "        while p1 == p2:\n",
    "            p2 = np.random.randint(0,p)\n",
    "        final = np.random.randint(0,3)\n",
    "        if final == 1:\n",
    "            money[p1] = money[p1] + dm\n",
    "            money[p2] = money[p2] - dm\n",
    "        elif final == 2:\n",
    "            money[p1] = money[p1] - dm\n",
    "            money[p2] = money[p2] + dm\n",
    "        elif money[p1] == 0 or money[p2] == 0:\n",
    "            r += 1 \n",
    "        else:\n",
    "            continue\n",
    "money = sorted(money,reverse = True)\n",
    "plt.ylabel('學生數量')\n",
    "plt.xlabel('錢')\n",
    "a=plt.hist(money)\n",
    "print(a)\n",
    "dx=(a[1][1]-a[1][0])\n",
    "bin_center = np.array(a[1][0:-1])+dx/2\n",
    "print(bin_center)\n",
    "\n",
    "from scipy import optimize\n",
    "\n",
    "def test_func(x,amp):\n",
    "    return amp*np.exp(-x/50)\n",
    "\n",
    "params,params_covariance = optimize.curve_fit(test_func,bin_center,a[0])\n",
    "print(params,params_covariance)\n",
    "plt.plot(bin_center,test_func(bin_center,params[0]),\"r*\",label='Fitted function')\n",
    "plt.show()"
   ]
  },
  {
   "cell_type": "code",
   "execution_count": null,
   "metadata": {},
   "outputs": [],
   "source": []
  },
  {
   "cell_type": "code",
   "execution_count": null,
   "metadata": {},
   "outputs": [],
   "source": []
  }
 ],
 "metadata": {
  "kernelspec": {
   "display_name": "Python 3",
   "language": "python",
   "name": "python3"
  },
  "language_info": {
   "codemirror_mode": {
    "name": "ipython",
    "version": 3
   },
   "file_extension": ".py",
   "mimetype": "text/x-python",
   "name": "python",
   "nbconvert_exporter": "python",
   "pygments_lexer": "ipython3",
   "version": "3.7.1"
  }
 },
 "nbformat": 4,
 "nbformat_minor": 2
}
