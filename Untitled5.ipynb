{
 "cells": [
  {
   "cell_type": "code",
   "execution_count": null,
   "metadata": {},
   "outputs": [],
   "source": [
    "import random\n",
    "import matplotlib.pyplot as plt\n",
    "import numpy as np\n",
    "\n",
    "student = int(input('學生總數:'))\n",
    "in_money = int(input('初始金錢:'))\n",
    "k = int(input('總共回數:'))\n",
    "dm = int(input('輸一次多少錢:'))\n",
    "money = []\n",
    "\n",
    "for i in range(0,student):\n",
    "    money.append(in_money)\n",
    "    \n",
    "for a in range(0,rounds):\n",
    "    players = student\n",
    "    if players == 1:\n",
    "        break\n",
    "    else:\n",
    "        for b in range(0,len(money)):\n",
    "            if money[b] <= 0:\n",
    "                players = players - 1 \n",
    "        money = sorted(mpney,reverse=True)\n",
    "        p1 = np.random.radint(0,players) #選出兩位學生\n",
    "        p2 = np.random.radint(0,players)\n",
    "        while p1 == p2:\n",
    "            p2 = np.random.radint(0,players)\n",
    "        final = np.random.radint(0,3)\n",
    "        if final == 1:\n",
    "            money[p1] = money[p1] + dm\n",
    "            money[p2] = money[p2] - dm\n",
    "        elif final == 2:\n",
    "            money[p1] = money[p1] - dm\n",
    "            money[p2] = money[p2] + dm\n",
    "        else:\n",
    "            continue\n",
    "money = sorted(money,reverse = true)\n",
    "plt.ylabel('學生數量')\n",
    "plt.xlabel('錢')\n",
    "plt.hist(money)\n",
    "plt.show()\n",
    "        "
   ]
  },
  {
   "cell_type": "code",
   "execution_count": null,
   "metadata": {},
   "outputs": [],
   "source": []
  }
 ],
 "metadata": {
  "kernelspec": {
   "display_name": "Python 3",
   "language": "python",
   "name": "python3"
  },
  "language_info": {
   "codemirror_mode": {
    "name": "ipython",
    "version": 3
   },
   "file_extension": ".py",
   "mimetype": "text/x-python",
   "name": "python",
   "nbconvert_exporter": "python",
   "pygments_lexer": "ipython3",
   "version": "3.7.1"
  }
 },
 "nbformat": 4,
 "nbformat_minor": 2
}
