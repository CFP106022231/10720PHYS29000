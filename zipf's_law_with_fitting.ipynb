{
 "cells": [
  {
   "cell_type": "code",
   "execution_count": null,
   "metadata": {},
   "outputs": [],
   "source": []
  },
  {
   "cell_type": "code",
   "execution_count": null,
   "metadata": {},
   "outputs": [],
   "source": []
  },
  {
   "cell_type": "code",
   "execution_count": 83,
   "metadata": {},
   "outputs": [
    {
     "name": "stdout",
     "output_type": "stream",
     "text": [
      "6331\n",
      "[ 11.9  31.7  51.5  71.3  91.1 110.9 130.7 150.5 170.3 190.1 209.9 229.7\n",
      " 249.5 269.3 289.1 308.9 328.7 348.5 368.3 388.1 407.9 427.7 447.5 467.3\n",
      " 487.1 506.9 526.7 546.5 566.3 586.1 605.9 625.7 645.5 665.3 685.1 704.9\n",
      " 724.7 744.5 764.3 784.1]\n",
      "[ 3.01903164e+06 -2.99432885e+00] [[ 4.05802893e+10 -5.41811318e+03]\n",
      " [-5.41811318e+03  7.23773217e-04]]\n",
      "3019031.63967988\n",
      "-2.9943288504186545\n"
     ]
    },
    {
     "data": {
      "image/png": "[encoded data removed]",
      "text/plain": [
       "<Figure size 432x288 with 1 Axes>"
      ]
     },
     "metadata": {
      "needs_background": "light"
     },
     "output_type": "display_data"
    }
   ],
   "source": [
    "import matplotlib.pyplot as plt\n",
    "fp = open('Alice.txt','r',encoding='UTF-8')\n",
    "line = fp.readline()\n",
    "my_dict = {}\n",
    "\n",
    "while line :\n",
    "    s=line.split()\n",
    "    for x in s :\n",
    "        if x not in my_dict :\n",
    "            my_dict[x] = 1\n",
    "        else :\n",
    "            my_dict[x] += 1\n",
    "    line = fp.readline()\n",
    "    \n",
    "fp.close()\n",
    "\n",
    "num = []\n",
    "\n",
    "for key in my_dict :\n",
    "    num.append(my_dict[key])\n",
    "    \n",
    "print(len(num))\n",
    "num.sort()\n",
    "num.reverse()\n",
    "numb=num[1:2000]\n",
    "a=plt.hist(numb,bins=40)\n",
    "dx=(a[1][1]-a[1][0])\n",
    "bin_center = np.array(a[1][0:-1])+dx/2\n",
    "print(bin_center)\n",
    "from scipy import optimize\n",
    "\n",
    "def test_func(x,amp,alpha):\n",
    "    return amp*x**alpha\n",
    "\n",
    "\n",
    "params,params_covariance = optimize.curve_fit(test_func,bin_center,a[0])\n",
    "amp = params[0]\n",
    "alpha = params[1]\n",
    "plt.plot(bin_center,test_func(bin_center,params[0],params[1]),\"r*\",label='Fitted function')\n",
    "plt.plot(range(len(num)),num,\".\")\n",
    "plt.xlabel('Rank of the word')\n",
    "plt.ylabel('Number of the occurance')\n",
    "\n",
    "print(params,params_covariance)\n",
    "print(amp)\n",
    "print(alpha)\n",
    "plt.show()"
   ]
  },
  {
   "cell_type": "code",
   "execution_count": null,
   "metadata": {},
   "outputs": [],
   "source": []
  },
  {
   "cell_type": "code",
   "execution_count": 84,
   "metadata": {},
   "outputs": [
    {
     "name": "stdout",
     "output_type": "stream",
     "text": [
      "6331\n",
      "2.950146773642758\n",
      "4.227937913265659e-07\n"
     ]
    },
    {
     "name": "stderr",
     "output_type": "stream",
     "text": [
      "C:\\Users\\ftes3\\Anaconda3\\lib\\site-packages\\ipykernel_launcher.py:35: RuntimeWarning: divide by zero encountered in power\n"
     ]
    },
    {
     "data": {
      "text/plain": [
       "<function matplotlib.pyplot.show(*args, **kw)>"
      ]
     },
     "execution_count": 84,
     "metadata": {},
     "output_type": "execute_result"
    },
    {
     "data": {
      "image/png": "[encoded data removed]",
      "text/plain": [
       "<Figure size 432x288 with 1 Axes>"
      ]
     },
     "metadata": {
      "needs_background": "light"
     },
     "output_type": "display_data"
    }
   ],
   "source": [
    "import matplotlib.pyplot as plt\n",
    "fp = open('Alice.txt','r',encoding='UTF-8')\n",
    "line = fp.readline()\n",
    "my_dict = {}\n",
    "\n",
    "while line :\n",
    "    s=line.split()\n",
    "    for x in s :\n",
    "        if x not in my_dict :\n",
    "            my_dict[x] = 1\n",
    "        else :\n",
    "            my_dict[x] += 1\n",
    "    line = fp.readline()\n",
    "    \n",
    "fp.close()\n",
    "\n",
    "num = []\n",
    "\n",
    "for key in my_dict :\n",
    "    num.append(my_dict[key])\n",
    "    \n",
    "print(len(num))\n",
    "num.sort()\n",
    "num.reverse()\n",
    "\n",
    "plt.plot(range(len(num)),num,\".\")\n",
    "plt.xlabel('Rank of the word')\n",
    "plt.ylabel('Number of the occurance')\n",
    "plt.xlim(0,200)\n",
    "plt.ylim(0,2000)\n",
    "x=range(len(num))\n",
    "y=num\n",
    "from scipy.optimize import curve_fit\n",
    "def func(x,a,b):\n",
    "    return a*x**(b)\n",
    "popt,pcov = curve_fit(func,x,y)\n",
    "a = popt[0]\n",
    "b = popt[1]\n",
    "yval = func(x,a,b)\n",
    "print(a)\n",
    "print(b)\n",
    "plt.plot(x,yval)\n",
    "plt.show"
   ]
  },
  {
   "cell_type": "code",
   "execution_count": null,
   "metadata": {},
   "outputs": [],
   "source": []
  }
 ],
 "metadata": {
  "kernelspec": {
   "display_name": "Python 3",
   "language": "python",
   "name": "python3"
  },
  "language_info": {
   "codemirror_mode": {
    "name": "ipython",
    "version": 3
   },
   "file_extension": ".py",
   "mimetype": "text/x-python",
   "name": "python",
   "nbconvert_exporter": "python",
   "pygments_lexer": "ipython3",
   "version": "3.7.1"
  }
 },
 "nbformat": 4,
 "nbformat_minor": 2
}
