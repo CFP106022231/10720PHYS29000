{
 "cells": [
  {
   "cell_type": "code",
   "execution_count": 4,
   "metadata": {},
   "outputs": [
    {
     "name": "stdout",
     "output_type": "stream",
     "text": [
      "學生總數:222\n",
      "初始金錢:312\n",
      "總共回數:52\n",
      "輸一次多少錢:56\n"
     ]
    },
    {
     "data": {
      "image/png": "[encoded data removed]",
      "text/plain": [
       "<Figure size 432x288 with 1 Axes>"
      ]
     },
     "metadata": {
      "needs_background": "light"
     },
     "output_type": "display_data"
    }
   ],
   "source": [
    "import random\n",
    "import matplotlib.pyplot as plt\n",
    "import numpy as np\n",
    "\n",
    "s = int(input('學生總數:'))\n",
    "m = int(input('初始金錢:'))\n",
    "r = int(input('總共回數:'))\n",
    "dm = int(input('輸一次多少錢:'))\n",
    "money = []\n",
    "\n",
    "for y in range(0,s):\n",
    "    money.append(m)\n",
    "    \n",
    "for z in range(0,r):\n",
    "    p = s\n",
    "    if p == 1:\n",
    "        break\n",
    "    else:\n",
    "        for x in range(0,len(money)):\n",
    "            if money[x] <= 0:\n",
    "                p = p - 1 \n",
    "        money = sorted(money,reverse=True)\n",
    "        p1 = np.random.randint(0,p) #選出兩位學生\n",
    "        p2 = np.random.randint(0,p)\n",
    "        while p1 == p2:\n",
    "            p2 = np.random.randint(0,p)\n",
    "        final = np.random.randint(0,3)\n",
    "        if final == 1:\n",
    "            money[p1] = money[p1] + dm\n",
    "            money[p2] = money[p2] - dm\n",
    "        elif final == 2:\n",
    "            money[p1] = money[p1] - dm\n",
    "            money[p2] = money[p2] + dm\n",
    "        else:\n",
    "            continue\n",
    "money = sorted(money,reverse = True)\n",
    "plt.ylabel('學生數量')\n",
    "plt.xlabel('錢')\n",
    "plt.hist(money)\n",
    "plt.show()\n",
    "        "
   ]
  },
  {
   "cell_type": "code",
   "execution_count": null,
   "metadata": {},
   "outputs": [],
   "source": []
  }
 ],
 "metadata": {
  "kernelspec": {
   "display_name": "Python 3",
   "language": "python",
   "name": "python3"
  },
  "language_info": {
   "codemirror_mode": {
    "name": "ipython",
    "version": 3
   },
   "file_extension": ".py",
   "mimetype": "text/x-python",
   "name": "python",
   "nbconvert_exporter": "python",
   "pygments_lexer": "ipython3",
   "version": "3.7.1"
  }
 },
 "nbformat": 4,
 "nbformat_minor": 2
}
